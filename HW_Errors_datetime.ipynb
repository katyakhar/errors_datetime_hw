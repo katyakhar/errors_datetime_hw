{
 "cells": [
  {
   "cell_type": "code",
   "execution_count": null,
   "metadata": {},
   "outputs": [],
   "source": [
    "from datetime import datetime, timedelta"
   ]
  },
  {
   "cell_type": "code",
   "execution_count": null,
   "metadata": {},
   "outputs": [],
   "source": [
    "# Задание 1\n",
    "\n",
    "the_moscow_times = 'Wednesday, October 2, 2002'\n",
    "the_guardian = 'Friday, 11.10.13'\n",
    "daily_news = 'Thursday, 18 August 1977'\n",
    "\n",
    "the_moscow_times_datetime = datetime.strptime(the_moscow_times, '%A, %B %d, %Y')\n",
    "the_guardian_datetime = datetime.strptime(the_guardian, '%A, %d.%m.%y')\n",
    "daily_news_datetime = datetime.strptime(daily_news, '%A, %d %B %Y')\n",
    "\n",
    "print(the_moscow_times_datetime)\n",
    "print(the_guardian_datetime)\n",
    "print(daily_news_datetime)"
   ]
  },
  {
   "cell_type": "code",
   "execution_count": null,
   "metadata": {},
   "outputs": [],
   "source": [
    "# Задание 2\n",
    "\n",
    "stream = ['2018-04-02', '2018-02-29', '2018-19-02']\n",
    "\n",
    "def date_format(stream):\n",
    "    for date in stream:\n",
    "        try:\n",
    "            stream_datetime = datetime.strptime(date, '%Y-%m-%d')\n",
    "            print(True)\n",
    "        except:\n",
    "            print(False)\n",
    "    return None\n",
    "            \n",
    "date_format(stream)"
   ]
  },
  {
   "cell_type": "code",
   "execution_count": null,
   "metadata": {},
   "outputs": [],
   "source": [
    "# Задание 3\n",
    "\n",
    "user_input_start = input('Введите начальную дату в формате YYYY-MM-DD: ')\n",
    "user_input_end = input('Введите конечную дату в формате YYYY-MM-DD: ')\n",
    "\n",
    "def date_format(date):\n",
    "    formatted_date = datetime.strptime(date, '%Y-%m-%d')\n",
    "    return formatted_date\n",
    "    \n",
    "\n",
    "def date_range(user_input_start, user_input_end):\n",
    "    empty_list = []\n",
    "    try:\n",
    "        start_date = date_format(user_input_start)\n",
    "        end_date = date_format(user_input_end)\n",
    "        if start_date > end_date:\n",
    "            return empty_list\n",
    "        current_date = start_date\n",
    "        while current_date <= end_date:\n",
    "            print(current_date.strftime('%Y-%m-%d'))\n",
    "            current_date += timedelta(days=1)\n",
    "    except:\n",
    "        return empty_list\n",
    "\n",
    "date_range(user_input_start, user_input_end)"
   ]
  }
 ],
 "metadata": {
  "kernelspec": {
   "display_name": "Python 3",
   "language": "python",
   "name": "python3"
  },
  "language_info": {
   "codemirror_mode": {
    "name": "ipython",
    "version": 3
   },
   "file_extension": ".py",
   "mimetype": "text/x-python",
   "name": "python",
   "nbconvert_exporter": "python",
   "pygments_lexer": "ipython3",
   "version": "3.8.5"
  }
 },
 "nbformat": 4,
 "nbformat_minor": 4
}
